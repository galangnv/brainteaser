{
 "cells": [
  {
   "cell_type": "code",
   "execution_count": 1,
   "metadata": {},
   "outputs": [
    {
     "name": "stderr",
     "output_type": "stream",
     "text": [
      "/opt/anaconda3/envs/brainteaser/lib/python3.12/site-packages/tqdm/auto.py:21: TqdmWarning: IProgress not found. Please update jupyter and ipywidgets. See https://ipywidgets.readthedocs.io/en/stable/user_install.html\n",
      "  from .autonotebook import tqdm as notebook_tqdm\n"
     ]
    }
   ],
   "source": [
    "import numpy as np\n",
    "from transformers import AutoTokenizer\n",
    "from datasets import Dataset"
   ]
  },
  {
   "cell_type": "code",
   "execution_count": 2,
   "metadata": {},
   "outputs": [],
   "source": [
    "sentence_puzzles = np.load('data/SP-train.npy', allow_pickle=True)\n",
    "word_puzzles = np.load('data/WP-train.npy', allow_pickle=True)"
   ]
  },
  {
   "cell_type": "code",
   "execution_count": 3,
   "metadata": {},
   "outputs": [
    {
     "data": {
      "text/plain": [
       "{'id': 'SP-0',\n",
       " 'question': 'Mr. and Mrs. Mustard have six daughters and each daughter has one brother. But there are only 9 people in the family, how is that possible?',\n",
       " 'answer': 'Each daughter shares the same brother.',\n",
       " 'distractor1': 'Some daughters get married and have their own family.',\n",
       " 'distractor2': 'Some brothers were not loved by family and moved away.',\n",
       " 'distractor(unsure)': 'None of above.',\n",
       " 'label': 1,\n",
       " 'choice_list': ['Some daughters get married and have their own family.',\n",
       "  'Each daughter shares the same brother.',\n",
       "  'Some brothers were not loved by family and moved away.',\n",
       "  'None of above.'],\n",
       " 'choice_order': [1, 0, 2, 3]}"
      ]
     },
     "execution_count": 3,
     "metadata": {},
     "output_type": "execute_result"
    }
   ],
   "source": [
    "sentence_puzzles[0]"
   ]
  },
  {
   "cell_type": "code",
   "execution_count": null,
   "metadata": {},
   "outputs": [
    {
     "data": {
      "text/plain": [
       "['question', 'answer', 'distractor1', 'distractor2', 'distractor(unsure)']"
      ]
     },
     "execution_count": 9,
     "metadata": {},
     "output_type": "execute_result"
    }
   ],
   "source": [
    "choices = ['answer', 'distractor1', 'distractor2', 'distractor(unsure)']\n",
    "attributes = ['question'] + choices\n",
    "\n",
    "sentence_puzzles_dict = {key: [puzzle[key] for puzzle in sentence_puzzles] for key in attributes}\n",
    "for key in sentence_puzzles_dict:\n",
    "    sentence_puzzles_dict[key] = [str(value) for value in sentence_puzzles_dict[key]]\n",
    "\n",
    "sentence_puzzles_dataset = Dataset.from_dict(sentence_puzzles_dict)"
   ]
  },
  {
   "cell_type": "code",
   "execution_count": 4,
   "metadata": {},
   "outputs": [
    {
     "name": "stderr",
     "output_type": "stream",
     "text": [
      "/opt/anaconda3/envs/brainteaser/lib/python3.12/site-packages/transformers/convert_slow_tokenizer.py:561: UserWarning: The sentencepiece tokenizer that you are converting to a fast tokenizer uses the byte fallback option which is not implemented in the fast tokenizers. In practice this means that the fast version of the tokenizer can produce unknown tokens whereas the sentencepiece version would have converted these unknown tokens into a sequence of byte tokens matching the original piece of text.\n",
      "  warnings.warn(\n"
     ]
    }
   ],
   "source": [
    "tokenizer = AutoTokenizer.from_pretrained('microsoft/deberta-v3-base')"
   ]
  },
  {
   "cell_type": "code",
   "execution_count": null,
   "metadata": {},
   "outputs": [],
   "source": [
    "def preprocess_function(examples):\n",
    "    questions = [[question] * 4 for question in examples['question']]\n",
    "    answers = [[examples[choice][i] for choice in choices] for i in range(len(examples['answer']))]\n",
    "    \n",
    "    questions = sum(questions, [])\n",
    "    answers = sum(answers, [])\n",
    "\n",
    "    tokenized_examples = tokenizer(questions, answers, truncation=True)\n",
    "    return {key: [value[i:i + 4] for i in range(0, len(value), 4)] for key, value in tokenized_examples.items()}"
   ]
  },
  {
   "cell_type": "code",
   "execution_count": null,
   "metadata": {},
   "outputs": [],
   "source": [
    "examples = sentence_puzzles_dataset[:5]\n",
    "features = preprocess_function(examples)"
   ]
  },
  {
   "cell_type": "code",
   "execution_count": null,
   "metadata": {},
   "outputs": [],
   "source": [
    "idx = 0\n",
    "[tokenizer.decode(features['input_ids'][idx][i]) for i in range(4)]"
   ]
  }
 ],
 "metadata": {
  "kernelspec": {
   "display_name": "brainteaser",
   "language": "python",
   "name": "python3"
  },
  "language_info": {
   "codemirror_mode": {
    "name": "ipython",
    "version": 3
   },
   "file_extension": ".py",
   "mimetype": "text/x-python",
   "name": "python",
   "nbconvert_exporter": "python",
   "pygments_lexer": "ipython3",
   "version": "3.12.7"
  }
 },
 "nbformat": 4,
 "nbformat_minor": 2
}
