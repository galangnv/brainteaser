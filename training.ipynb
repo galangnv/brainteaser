{
 "cells": [
  {
   "cell_type": "code",
   "execution_count": null,
   "metadata": {},
   "outputs": [
    {
     "name": "stderr",
     "output_type": "stream",
     "text": [
      "/opt/anaconda3/envs/brainteaser/lib/python3.12/site-packages/tqdm/auto.py:21: TqdmWarning: IProgress not found. Please update jupyter and ipywidgets. See https://ipywidgets.readthedocs.io/en/stable/user_install.html\n",
      "  from .autonotebook import tqdm as notebook_tqdm\n"
     ]
    }
   ],
   "source": [
    "import numpy as np\n",
    "from transformers import AutoTokenizer, AutoModelForMultipleChoice, TrainingArguments, Trainer\n",
    "from datasets import Dataset, DatasetDict\n",
    "from dataclasses import dataclass\n",
    "from transformers.tokenization_utils_base import PreTrainedTokenizerBase, PaddingStrategy\n",
    "from typing import Optional, Union\n",
    "import torch\n",
    "from tqdm import tqdm"
   ]
  },
  {
   "cell_type": "markdown",
   "metadata": {},
   "source": [
    "### Loading the Data"
   ]
  },
  {
   "cell_type": "code",
   "execution_count": 2,
   "metadata": {},
   "outputs": [],
   "source": [
    "sentence_puzzles = np.load('data/SP-train.npy', allow_pickle=True)\n",
    "word_puzzles = np.load('data/WP-train.npy', allow_pickle=True)"
   ]
  },
  {
   "cell_type": "code",
   "execution_count": 3,
   "metadata": {},
   "outputs": [
    {
     "data": {
      "text/plain": [
       "{'id': 'SP-0',\n",
       " 'question': 'Mr. and Mrs. Mustard have six daughters and each daughter has one brother. But there are only 9 people in the family, how is that possible?',\n",
       " 'answer': 'Each daughter shares the same brother.',\n",
       " 'distractor1': 'Some daughters get married and have their own family.',\n",
       " 'distractor2': 'Some brothers were not loved by family and moved away.',\n",
       " 'distractor(unsure)': 'None of above.',\n",
       " 'label': 1,\n",
       " 'choice_list': ['Some daughters get married and have their own family.',\n",
       "  'Each daughter shares the same brother.',\n",
       "  'Some brothers were not loved by family and moved away.',\n",
       "  'None of above.'],\n",
       " 'choice_order': [1, 0, 2, 3]}"
      ]
     },
     "execution_count": 3,
     "metadata": {},
     "output_type": "execute_result"
    }
   ],
   "source": [
    "sentence_puzzles[0]"
   ]
  },
  {
   "cell_type": "code",
   "execution_count": 4,
   "metadata": {},
   "outputs": [
    {
     "data": {
      "text/plain": [
       "{'id': 'SP-0',\n",
       " 'question': 'Mr. and Mrs. Mustard have six daughters and each daughter has one brother. But there are only 9 people in the family, how is that possible?',\n",
       " 'answer': 'Each daughter shares the same brother.',\n",
       " 'distractor1': 'Some daughters get married and have their own family.',\n",
       " 'distractor2': 'Some brothers were not loved by family and moved away.',\n",
       " 'distractor(unsure)': 'None of above.',\n",
       " 'label': 1,\n",
       " 'choice_list': ['Some daughters get married and have their own family.',\n",
       "  'Each daughter shares the same brother.',\n",
       "  'Some brothers were not loved by family and moved away.',\n",
       "  'None of above.'],\n",
       " 'choice_order': [1, 0, 2, 3],\n",
       " 'choice1': 'Some daughters get married and have their own family.',\n",
       " 'choice2': 'Each daughter shares the same brother.',\n",
       " 'choice3': 'Some brothers were not loved by family and moved away.',\n",
       " 'choice4': 'None of above.'}"
      ]
     },
     "execution_count": 4,
     "metadata": {},
     "output_type": "execute_result"
    }
   ],
   "source": [
    "sentence_puzzles_modified = np.array([\n",
    "    {**d,\n",
    "     'choice1': d['choice_list'][0],\n",
    "     'choice2': d['choice_list'][1],\n",
    "     'choice3': d['choice_list'][2],\n",
    "     'choice4': d['choice_list'][3]} for d in sentence_puzzles\n",
    "])\n",
    "\n",
    "sentence_puzzles_modified[0]"
   ]
  },
  {
   "cell_type": "code",
   "execution_count": 5,
   "metadata": {},
   "outputs": [],
   "source": [
    "choices = ['choice1', 'choice2', 'choice3', 'choice4']\n",
    "attributes = ['question', 'label'] + choices\n",
    "\n",
    "sentence_puzzles_dict = {key: [puzzle[key] for puzzle in sentence_puzzles_modified] for key in attributes}\n",
    "for key in ['question'] + choices:\n",
    "    sentence_puzzles_dict[key] = [str(value) for value in sentence_puzzles_dict[key]]\n",
    "sentence_puzzles_dict['label'] = [int(value) for value in sentence_puzzles_dict['label']]\n",
    "\n",
    "sentence_puzzles_dataset = Dataset.from_dict(sentence_puzzles_dict)"
   ]
  },
  {
   "cell_type": "code",
   "execution_count": 6,
   "metadata": {},
   "outputs": [
    {
     "data": {
      "text/plain": [
       "DatasetDict({\n",
       "    train: Dataset({\n",
       "        features: ['question', 'label', 'choice1', 'choice2', 'choice3', 'choice4'],\n",
       "        num_rows: 405\n",
       "    })\n",
       "    validation: Dataset({\n",
       "        features: ['question', 'label', 'choice1', 'choice2', 'choice3', 'choice4'],\n",
       "        num_rows: 51\n",
       "    })\n",
       "    test: Dataset({\n",
       "        features: ['question', 'label', 'choice1', 'choice2', 'choice3', 'choice4'],\n",
       "        num_rows: 51\n",
       "    })\n",
       "})"
      ]
     },
     "execution_count": 6,
     "metadata": {},
     "output_type": "execute_result"
    }
   ],
   "source": [
    "ds_train_devtest = sentence_puzzles_dataset.train_test_split(test_size = 0.2)\n",
    "ds_devtest = ds_train_devtest['test'].train_test_split(test_size=0.5)\n",
    "\n",
    "sentence_puzzles_datasets = DatasetDict({\n",
    "    'train': ds_train_devtest['train'],\n",
    "    'validation': ds_devtest['train'],\n",
    "    'test': ds_devtest['test']\n",
    "})\n",
    "\n",
    "sentence_puzzles_datasets"
   ]
  },
  {
   "cell_type": "markdown",
   "metadata": {},
   "source": [
    "### Preprocessing"
   ]
  },
  {
   "cell_type": "code",
   "execution_count": 88,
   "metadata": {},
   "outputs": [
    {
     "name": "stderr",
     "output_type": "stream",
     "text": [
      "/opt/anaconda3/envs/brainteaser/lib/python3.12/site-packages/transformers/convert_slow_tokenizer.py:561: UserWarning: The sentencepiece tokenizer that you are converting to a fast tokenizer uses the byte fallback option which is not implemented in the fast tokenizers. In practice this means that the fast version of the tokenizer can produce unknown tokens whereas the sentencepiece version would have converted these unknown tokens into a sequence of byte tokens matching the original piece of text.\n",
      "  warnings.warn(\n"
     ]
    }
   ],
   "source": [
    "tokenizer = AutoTokenizer.from_pretrained('microsoft/deberta-v3-base')"
   ]
  },
  {
   "cell_type": "code",
   "execution_count": 89,
   "metadata": {},
   "outputs": [],
   "source": [
    "def preprocess_function(examples):\n",
    "    questions = [[question] * 4 for question in examples['question']]\n",
    "    answers = [[examples[choice][i] for choice in choices] for i in range(len(examples['question']))]\n",
    "    \n",
    "    questions = sum(questions, [])\n",
    "    answers = sum(answers, [])\n",
    "\n",
    "    tokenized_examples = tokenizer(questions, answers, truncation=True)\n",
    "    return {key: [value[i:i + 4] for i in range(0, len(value), 4)] for key, value in tokenized_examples.items()}"
   ]
  },
  {
   "cell_type": "code",
   "execution_count": 102,
   "metadata": {},
   "outputs": [
    {
     "data": {
      "text/plain": [
       "'[CLS] Tom is a clean freak but he never dries his hair after a shower. How is this possible?[SEP] His hair is dyed.[SEP]'"
      ]
     },
     "execution_count": 102,
     "metadata": {},
     "output_type": "execute_result"
    }
   ],
   "source": [
    "examples = sentence_puzzles_datasets['train'][5:6]\n",
    "features = preprocess_function(examples)\n",
    "tokenizer.decode(features[\"input_ids\"][0][0])"
   ]
  },
  {
   "cell_type": "code",
   "execution_count": 9,
   "metadata": {},
   "outputs": [
    {
     "name": "stderr",
     "output_type": "stream",
     "text": [
      "Map:   0%|          | 0/405 [00:00<?, ? examples/s]Asking to truncate to max_length but no maximum length is provided and the model has no predefined maximum length. Default to no truncation.\n",
      "Map: 100%|██████████| 405/405 [00:00<00:00, 2084.11 examples/s]\n",
      "Map: 100%|██████████| 51/51 [00:00<00:00, 2033.50 examples/s]\n",
      "Map: 100%|██████████| 51/51 [00:00<00:00, 1896.97 examples/s]\n"
     ]
    }
   ],
   "source": [
    "encoded_datasets = sentence_puzzles_datasets.map(preprocess_function, batched=True)"
   ]
  },
  {
   "cell_type": "code",
   "execution_count": 10,
   "metadata": {},
   "outputs": [],
   "source": [
    "encoded_datasets.set_format(type='torch', columns=['input_ids', 'token_type_ids', 'attention_mask', 'label'])"
   ]
  },
  {
   "cell_type": "markdown",
   "metadata": {},
   "source": [
    "### Fine-tuning"
   ]
  },
  {
   "cell_type": "code",
   "execution_count": 11,
   "metadata": {},
   "outputs": [
    {
     "name": "stderr",
     "output_type": "stream",
     "text": [
      "Some weights of DebertaV2ForMultipleChoice were not initialized from the model checkpoint at microsoft/deberta-v3-base and are newly initialized: ['classifier.bias', 'classifier.weight', 'pooler.dense.bias', 'pooler.dense.weight']\n",
      "You should probably TRAIN this model on a down-stream task to be able to use it for predictions and inference.\n"
     ]
    }
   ],
   "source": [
    "model = AutoModelForMultipleChoice.from_pretrained('microsoft/deberta-v3-base')"
   ]
  },
  {
   "cell_type": "code",
   "execution_count": 12,
   "metadata": {},
   "outputs": [],
   "source": [
    "args = TrainingArguments(\n",
    "    'deberta-v3-base-finetuned-brainteaser',\n",
    "    eval_strategy='epoch',\n",
    "    learning_rate=5e-5,\n",
    "    per_device_train_batch_size=16,\n",
    "    per_device_eval_batch_size=16,\n",
    "    num_train_epochs=3\n",
    ")"
   ]
  },
  {
   "cell_type": "code",
   "execution_count": 13,
   "metadata": {},
   "outputs": [],
   "source": [
    "@dataclass\n",
    "class DataCollatorForMultipleChoice:\n",
    "    tokenizer: PreTrainedTokenizerBase\n",
    "    padding: Union[bool, str, PaddingStrategy] = True\n",
    "    max_length: Optional[int] = None\n",
    "    pad_to_multiple_of: Optional[int] = None\n",
    "\n",
    "    def __call__(self, features):\n",
    "        label_name = \"label\" if \"label\" in features[0].keys() else \"labels\"\n",
    "        labels = [feature.pop(label_name) for feature in features]\n",
    "        batch_size = len(features)\n",
    "        num_choices = len(features[0][\"input_ids\"])\n",
    "        flattened_features = [\n",
    "            [{k: v[i] for k, v in feature.items()} for i in range(num_choices)] for feature in features\n",
    "        ]\n",
    "        flattened_features = sum(flattened_features, [])\n",
    "\n",
    "        batch = self.tokenizer.pad(\n",
    "            flattened_features,\n",
    "            padding=self.padding,\n",
    "            max_length=self.max_length,\n",
    "            pad_to_multiple_of=self.pad_to_multiple_of,\n",
    "            return_tensors=\"pt\",\n",
    "        )\n",
    "\n",
    "        batch = {k: v.view(batch_size, num_choices, -1) for k, v in batch.items()}\n",
    "        batch[\"labels\"] = torch.tensor(labels, dtype=torch.int64)\n",
    "        return batch"
   ]
  },
  {
   "cell_type": "code",
   "execution_count": 14,
   "metadata": {},
   "outputs": [],
   "source": [
    "def compute_metrics(eval_predictions):\n",
    "    predictions, label_ids = eval_predictions\n",
    "    preds = np.argmax(predictions, axis=1)\n",
    "    return {\"accuracy\": (preds == label_ids).astype(np.float32).mean().item()}"
   ]
  },
  {
   "cell_type": "code",
   "execution_count": 15,
   "metadata": {},
   "outputs": [
    {
     "name": "stderr",
     "output_type": "stream",
     "text": [
      "/var/folders/hf/84168y7j5273w1vll45wsgxr0000gn/T/ipykernel_20379/6155045.py:1: FutureWarning: `tokenizer` is deprecated and will be removed in version 5.0.0 for `Trainer.__init__`. Use `processing_class` instead.\n",
      "  trainer = Trainer(\n"
     ]
    }
   ],
   "source": [
    "trainer = Trainer(\n",
    "    model,\n",
    "    args,\n",
    "    train_dataset=encoded_datasets[\"train\"],\n",
    "    eval_dataset=encoded_datasets[\"validation\"],\n",
    "    tokenizer=tokenizer,\n",
    "    data_collator=DataCollatorForMultipleChoice(tokenizer),\n",
    "    compute_metrics=compute_metrics\n",
    ")"
   ]
  },
  {
   "cell_type": "code",
   "execution_count": 16,
   "metadata": {},
   "outputs": [
    {
     "name": "stderr",
     "output_type": "stream",
     "text": [
      "  0%|          | 0/78 [00:00<?, ?it/s]You're using a DebertaV2TokenizerFast tokenizer. Please note that with a fast tokenizer, using the `__call__` method is faster than using a method to encode the text followed by a call to the `pad` method to get a padded encoding.\n",
      "                                                  \n",
      " 33%|███▎      | 26/78 [40:51<55:34, 64.12s/it]"
     ]
    },
    {
     "name": "stdout",
     "output_type": "stream",
     "text": [
      "{'eval_loss': 0.6741086840629578, 'eval_accuracy': 0.7647058963775635, 'eval_runtime': 55.6678, 'eval_samples_per_second': 0.916, 'eval_steps_per_second': 0.072, 'epoch': 1.0}\n"
     ]
    },
    {
     "name": "stderr",
     "output_type": "stream",
     "text": [
      "                                                  \n",
      " 67%|██████▋   | 52/78 [1:22:21<35:57, 82.99s/it]"
     ]
    },
    {
     "name": "stdout",
     "output_type": "stream",
     "text": [
      "{'eval_loss': 0.35971760749816895, 'eval_accuracy': 0.8627451062202454, 'eval_runtime': 63.7275, 'eval_samples_per_second': 0.8, 'eval_steps_per_second': 0.063, 'epoch': 2.0}\n"
     ]
    },
    {
     "name": "stderr",
     "output_type": "stream",
     "text": [
      "                                                  \n",
      "100%|██████████| 78/78 [2:05:23<00:00, 96.45s/it]"
     ]
    },
    {
     "name": "stdout",
     "output_type": "stream",
     "text": [
      "{'eval_loss': 0.32489627599716187, 'eval_accuracy': 0.8627451062202454, 'eval_runtime': 55.5344, 'eval_samples_per_second': 0.918, 'eval_steps_per_second': 0.072, 'epoch': 3.0}\n",
      "{'train_runtime': 7523.0457, 'train_samples_per_second': 0.162, 'train_steps_per_second': 0.01, 'train_loss': 0.5990286117944962, 'epoch': 3.0}\n"
     ]
    },
    {
     "name": "stderr",
     "output_type": "stream",
     "text": [
      "\n"
     ]
    },
    {
     "data": {
      "text/plain": [
       "TrainOutput(global_step=78, training_loss=0.5990286117944962, metrics={'train_runtime': 7523.0457, 'train_samples_per_second': 0.162, 'train_steps_per_second': 0.01, 'total_flos': 293591400283656.0, 'train_loss': 0.5990286117944962, 'epoch': 3.0})"
      ]
     },
     "execution_count": 16,
     "metadata": {},
     "output_type": "execute_result"
    }
   ],
   "source": [
    "trainer.train()"
   ]
  },
  {
   "cell_type": "markdown",
   "metadata": {},
   "source": [
    "### Inference"
   ]
  },
  {
   "cell_type": "code",
   "execution_count": 104,
   "metadata": {},
   "outputs": [],
   "source": [
    "tokenizer = AutoTokenizer.from_pretrained('deberta-v3-base-finetuned-brainteaser/checkpoint-78')\n",
    "model = AutoModelForMultipleChoice.from_pretrained('deberta-v3-base-finetuned-brainteaser/checkpoint-78')"
   ]
  },
  {
   "cell_type": "code",
   "execution_count": 76,
   "metadata": {},
   "outputs": [
    {
     "name": "stdout",
     "output_type": "stream",
     "text": [
      "Two men are found dead in their house, however there is no sign of one of them killing the other one, neither the sign of any other intruders. How's that possible?\n",
      "0: They were frightened to death by the sound of thunder and lightning.\n",
      "1: They're twins, and their genes let them die together.\n",
      "2: They both comitted suiside.\n",
      "3: None of above.\n",
      "Correct: 2\n"
     ]
    }
   ],
   "source": [
    "idx = 19\n",
    "\n",
    "question = sentence_puzzles_datasets['test'][idx]['question']\n",
    "choice1 = sentence_puzzles_datasets['test'][idx]['choice1']\n",
    "choice2 = sentence_puzzles_datasets['test'][idx]['choice2']\n",
    "choice3 = sentence_puzzles_datasets['test'][idx]['choice3']\n",
    "choice4 = sentence_puzzles_datasets['test'][idx]['choice4']\n",
    "\n",
    "print(question)\n",
    "print('0:', choice1)\n",
    "print('1:', choice2)\n",
    "print('2:', choice3)\n",
    "print('3:', choice4)\n",
    "print('Correct:', sentence_puzzles_datasets['test'][idx]['label'])"
   ]
  },
  {
   "cell_type": "code",
   "execution_count": 77,
   "metadata": {},
   "outputs": [
    {
     "name": "stdout",
     "output_type": "stream",
     "text": [
      "Prediction: 3\n"
     ]
    }
   ],
   "source": [
    "inputs = tokenizer([[question, choice1], [question, choice2], [question, choice3], [question, choice4]], return_tensors='pt', padding=True)\n",
    "labels = torch.tensor(0).unsqueeze(0)\n",
    "\n",
    "outputs = model(**{k: v.unsqueeze(0) for k, v in inputs.items()}, labels=labels)\n",
    "logits = outputs.logits\n",
    "\n",
    "predicted_class = logits.argmax().item()\n",
    "print('Prediction:', predicted_class)"
   ]
  },
  {
   "cell_type": "markdown",
   "metadata": {},
   "source": [
    "### CodaLab Competition Answers Generation"
   ]
  },
  {
   "cell_type": "code",
   "execution_count": 79,
   "metadata": {},
   "outputs": [
    {
     "data": {
      "text/plain": [
       "{'question': 'In a small village, two farmers are working in their fields - a diligent farmer and a lazy farmer. The hardworking farmer is the son of the lazy farmer, but the lazy farmer is not the father of the hardworking farmer. Can you explain this unusual relationship?',\n",
       " 'choice_list': ['The lazy farmer is his mother.',\n",
       "  'The lazy farmer is not a responsible father as he is lazy.',\n",
       "  'The diligent farmer devoted himself to the farm and gradually forgot his father.',\n",
       "  'None of above.']}"
      ]
     },
     "execution_count": 79,
     "metadata": {},
     "output_type": "execute_result"
    }
   ],
   "source": [
    "test_data = np.load('data/SP_new_test.npy', allow_pickle=True)\n",
    "test_data[0]"
   ]
  },
  {
   "cell_type": "code",
   "execution_count": null,
   "metadata": {},
   "outputs": [
    {
     "name": "stderr",
     "output_type": "stream",
     "text": [
      "100%|██████████| 120/120 [01:50<00:00,  1.08it/s]\n"
     ]
    }
   ],
   "source": [
    "with open('test-results/answer_sen.txt', 'w') as f:\n",
    "    for i in tqdm(range(len(test_data))):\n",
    "        question = test_data[i]['question']\n",
    "        choice1 = test_data[i]['choice_list'][0]\n",
    "        choice2 = test_data[i]['choice_list'][1]\n",
    "        choice3 = test_data[i]['choice_list'][2]\n",
    "        choice4 = test_data[i]['choice_list'][3]\n",
    "\n",
    "        inputs = tokenizer([[question, choice1], [question, choice2], [question, choice3], [question, choice4]], return_tensors='pt', padding=True)\n",
    "        labels = torch.tensor(0).unsqueeze(0)\n",
    "\n",
    "        outputs = model(**{k: v.unsqueeze(0) for k, v in inputs.items()}, labels=labels)\n",
    "        logits = outputs.logits\n",
    "\n",
    "        predicted_class = logits.argmax().item()\n",
    "        f.write(str(predicted_class) + '\\n')\n"
   ]
  },
  {
   "cell_type": "code",
   "execution_count": 103,
   "metadata": {},
   "outputs": [
    {
     "data": {
      "text/plain": [
       "{'question': \"What kind of stock doesn't have shares?\",\n",
       " 'choice_list': ['Small-cap stock.',\n",
       "  'Livestock.',\n",
       "  'Growth stock.',\n",
       "  'None of above.']}"
      ]
     },
     "execution_count": 103,
     "metadata": {},
     "output_type": "execute_result"
    }
   ],
   "source": [
    "test_data = np.load('data/WP_new_test.npy', allow_pickle=True)\n",
    "test_data[0]"
   ]
  },
  {
   "cell_type": "code",
   "execution_count": 105,
   "metadata": {},
   "outputs": [
    {
     "name": "stderr",
     "output_type": "stream",
     "text": [
      "100%|██████████| 96/96 [00:54<00:00,  1.78it/s]\n"
     ]
    }
   ],
   "source": [
    "with open('test-results/answer_word.txt', 'w') as f:\n",
    "    for i in tqdm(range(len(test_data))):\n",
    "        question = test_data[i]['question']\n",
    "        choice1 = test_data[i]['choice_list'][0]\n",
    "        choice2 = test_data[i]['choice_list'][1]\n",
    "        choice3 = test_data[i]['choice_list'][2]\n",
    "        choice4 = test_data[i]['choice_list'][3]\n",
    "\n",
    "        inputs = tokenizer([[question, choice1], [question, choice2], [question, choice3], [question, choice4]], return_tensors='pt', padding=True)\n",
    "        labels = torch.tensor(0).unsqueeze(0)\n",
    "\n",
    "        outputs = model(**{k: v.unsqueeze(0) for k, v in inputs.items()}, labels=labels)\n",
    "        logits = outputs.logits\n",
    "\n",
    "        predicted_class = logits.argmax().item()\n",
    "        f.write(str(predicted_class) + '\\n')\n"
   ]
  }
 ],
 "metadata": {
  "kernelspec": {
   "display_name": "brainteaser",
   "language": "python",
   "name": "python3"
  },
  "language_info": {
   "codemirror_mode": {
    "name": "ipython",
    "version": 3
   },
   "file_extension": ".py",
   "mimetype": "text/x-python",
   "name": "python",
   "nbconvert_exporter": "python",
   "pygments_lexer": "ipython3",
   "version": "3.12.7"
  }
 },
 "nbformat": 4,
 "nbformat_minor": 2
}
