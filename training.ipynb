{
 "cells": [
  {
   "cell_type": "code",
   "execution_count": 1,
   "metadata": {},
   "outputs": [
    {
     "name": "stderr",
     "output_type": "stream",
     "text": [
      "/opt/anaconda3/envs/brainteaser/lib/python3.12/site-packages/tqdm/auto.py:21: TqdmWarning: IProgress not found. Please update jupyter and ipywidgets. See https://ipywidgets.readthedocs.io/en/stable/user_install.html\n",
      "  from .autonotebook import tqdm as notebook_tqdm\n"
     ]
    }
   ],
   "source": [
    "import numpy as np\n",
    "from transformers import pipeline"
   ]
  },
  {
   "cell_type": "code",
   "execution_count": 2,
   "metadata": {},
   "outputs": [],
   "source": [
    "sentence_puzzles = np.load('data/SP-train.npy', allow_pickle=True)\n",
    "word_puzzles = np.load('data/WP-train.npy', allow_pickle=True)"
   ]
  },
  {
   "cell_type": "code",
   "execution_count": 7,
   "metadata": {},
   "outputs": [
    {
     "data": {
      "text/plain": [
       "{'id': 'SP-0',\n",
       " 'question': 'Mr. and Mrs. Mustard have six daughters and each daughter has one brother. But there are only 9 people in the family, how is that possible?',\n",
       " 'answer': 'Each daughter shares the same brother.',\n",
       " 'distractor1': 'Some daughters get married and have their own family.',\n",
       " 'distractor2': 'Some brothers were not loved by family and moved away.',\n",
       " 'distractor(unsure)': 'None of above.',\n",
       " 'label': 1,\n",
       " 'choice_list': ['Some daughters get married and have their own family.',\n",
       "  'Each daughter shares the same brother.',\n",
       "  'Some brothers were not loved by family and moved away.',\n",
       "  'None of above.'],\n",
       " 'choice_order': [1, 0, 2, 3]}"
      ]
     },
     "execution_count": 7,
     "metadata": {},
     "output_type": "execute_result"
    }
   ],
   "source": [
    "sentence_puzzles[0]"
   ]
  },
  {
   "cell_type": "code",
   "execution_count": 4,
   "metadata": {},
   "outputs": [],
   "source": [
    "zeroshot_classifier = pipeline('zero-shot-classification', model='MoritzLaurer/deberta-v3-base-zeroshot-v2.0')"
   ]
  },
  {
   "cell_type": "code",
   "execution_count": 41,
   "metadata": {},
   "outputs": [
    {
     "name": "stdout",
     "output_type": "stream",
     "text": [
      "Mr. and Mrs. Mustard have six daughters and each daughter has one brother. But there are only 9 people in the family, how is that possible?\n",
      "Correct answer: Each daughter shares the same brother.\n",
      "\n",
      "Each daughter shares the same brother.: 0.946\n",
      "None of above.: 0.042\n",
      "Some daughters get married and have their own family.: 0.01\n",
      "Some brothers were not loved by family and moved away.: 0.002\n"
     ]
    }
   ],
   "source": [
    "question_num = 0\n",
    "\n",
    "text = sentence_puzzles[question_num]['question']\n",
    "print(text)\n",
    "print('Correct answer:', sentence_puzzles[question_num]['answer'])\n",
    "hypothesis_template = 'The answer is {}'\n",
    "classes_verbalized = sentence_puzzles[question_num]['choice_list']\n",
    "\n",
    "output = zeroshot_classifier(text, classes_verbalized, hypothesis_template=hypothesis_template, multi_label=False)\n",
    "\n",
    "print()\n",
    "for i in range(len(classes_verbalized)):\n",
    "    print(f'{output['labels'][i]}: {round(output['scores'][i], 3)}')"
   ]
  }
 ],
 "metadata": {
  "kernelspec": {
   "display_name": "brainteaser",
   "language": "python",
   "name": "python3"
  },
  "language_info": {
   "codemirror_mode": {
    "name": "ipython",
    "version": 3
   },
   "file_extension": ".py",
   "mimetype": "text/x-python",
   "name": "python",
   "nbconvert_exporter": "python",
   "pygments_lexer": "ipython3",
   "version": "3.12.7"
  }
 },
 "nbformat": 4,
 "nbformat_minor": 2
}
